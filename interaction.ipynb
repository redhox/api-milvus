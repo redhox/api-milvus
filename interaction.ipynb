{
 "cells": [
  {
   "cell_type": "code",
   "execution_count": 3,
   "metadata": {},
   "outputs": [
    {
     "name": "stdout",
     "output_type": "stream",
     "text": [
      "\n",
      "\u001b[1m[\u001b[0m\u001b[34;49mnotice\u001b[0m\u001b[1;39;49m]\u001b[0m\u001b[39;49m A new release of pip is available: \u001b[0m\u001b[31;49m24.2\u001b[0m\u001b[39;49m -> \u001b[0m\u001b[32;49m25.0.1\u001b[0m\n",
      "\u001b[1m[\u001b[0m\u001b[34;49mnotice\u001b[0m\u001b[1;39;49m]\u001b[0m\u001b[39;49m To update, run: \u001b[0m\u001b[32;49mpip install --upgrade pip\u001b[0m\n",
      "Note: you may need to restart the kernel to use updated packages.\n"
     ]
    }
   ],
   "source": [
    "pip install requests -q"
   ]
  },
  {
   "cell_type": "code",
   "execution_count": 2,
   "metadata": {},
   "outputs": [],
   "source": [
    "import requests\n",
    "import json\n"
   ]
  },
  {
   "cell_type": "code",
   "execution_count": 3,
   "metadata": {},
   "outputs": [],
   "source": [
    "SERVER_URL='https://api.morgan-coulm.fr'\n",
    "SERVER_URL='http://localhost:8002'\n"
   ]
  },
  {
   "cell_type": "code",
   "execution_count": 5,
   "metadata": {},
   "outputs": [
    {
     "name": "stdout",
     "output_type": "stream",
     "text": [
      "['[*]OC(=O)CCCCCCCCC(=O)Oc1nc2cc(O[*])ccc2nc1-c1ccccc1', '[*]OC(=O)c1nc2cc(OC(=O)CCCCCCCCCCCCC([*])=O)ccc2nc1-c1ccccc1', '[*]Oc1nc2cc(OC(=O)CCCCCCCCCCCCC([*])=O)ccc2nc1-c1ccccc1']\n"
     ]
    }
   ],
   "source": [
    "headers = {\n",
    "    'accept': 'application/json',\n",
    "    'Content-Type': 'application/json'\n",
    "}\n",
    "data={\n",
    "    \"smiles\":\"[*]c1nc2cc(NS([*])(=O)=O)ccc2nc1-c1nc2cc(-c3ccccc3)ccc2nc1CCCCCC\",\n",
    "  \"n_sortie\": 3,\n",
    "  \"collection\":'filtre1',\n",
    "  \"direct\": True\n",
    "}\n",
    "reponse = requests.put(f'{SERVER_URL}/milvus/recherche_par_smiles', json=data, headers=headers) \n",
    "result = reponse.json()\n",
    "result=[element['smiles'] for element in result]\n",
    "print(result)"
   ]
  },
  {
   "cell_type": "code",
   "execution_count": 52,
   "metadata": {},
   "outputs": [
    {
     "name": "stdout",
     "output_type": "stream",
     "text": [
      "[*]OC(=O)CCCCCCCCC(=O)Oc1nc2cc(O[*])ccc2nc1-c1ccccc1\n",
      "[*]OC(=O)c1nc2cc(OC(=O)CCCCCCCCCCCCC([*])=O)ccc2nc1-c1ccccc1\n",
      "[*]Oc1nc2cc(OC(=O)CCCCCCCCCCCCC([*])=O)ccc2nc1-c1ccccc1\n"
     ]
    }
   ],
   "source": [
    "for element in result:\n",
    "    print(element['smiles'])"
   ]
  },
  {
   "cell_type": "code",
   "execution_count": 21,
   "metadata": {},
   "outputs": [
    {
     "name": "stdout",
     "output_type": "stream",
     "text": [
      "[*]NC(=O)CCCCCCCCCCCCC(=O)OCCOc1cccc(O[*])c1\n",
      "[*]CCCCCCCSSCCNc1cccc(OCCC[*])c1\n",
      "[*]C(=O)OC(=O)CCCCCCCC(=O)Oc1cccc(-c2ccc([*])cc2)c1\n"
     ]
    }
   ],
   "source": [
    "headers = {\n",
    "    'accept': 'application/json',\n",
    "    'Content-Type': 'application/json'\n",
    "}\n",
    "data={\n",
    "  \"n_sortie\": 3,\n",
    "  \"collection\":'filtre1',\n",
    "  \"direct\": True\n",
    "}\n",
    "reponse = requests.put(f'{SERVER_URL}/milvus/random_datasets', json=data, headers=headers) \n",
    "result = json.loads(reponse.json())\n",
    "for element in result['valeur']:\n",
    "  print(element[\"smiles\"])"
   ]
  },
  {
   "cell_type": "code",
   "execution_count": 19,
   "metadata": {},
   "outputs": [
    {
     "data": {
      "text/plain": [
       "'[*]Cc1cccc(CSCCCCCCOC([*])=O)c1'"
      ]
     },
     "execution_count": 19,
     "metadata": {},
     "output_type": "execute_result"
    }
   ],
   "source": []
  }
 ],
 "metadata": {
  "kernelspec": {
   "display_name": ".venv",
   "language": "python",
   "name": "python3"
  },
  "language_info": {
   "codemirror_mode": {
    "name": "ipython",
    "version": 3
   },
   "file_extension": ".py",
   "mimetype": "text/x-python",
   "name": "python",
   "nbconvert_exporter": "python",
   "pygments_lexer": "ipython3",
   "version": "3.10.16"
  }
 },
 "nbformat": 4,
 "nbformat_minor": 2
}
